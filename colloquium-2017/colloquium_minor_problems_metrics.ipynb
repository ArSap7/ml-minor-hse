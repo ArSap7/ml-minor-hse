{
 "cells": [
  {
   "cell_type": "markdown",
   "metadata": {},
   "source": [
    "### Примеры задач/вопросов про метрики качества"
   ]
  },
  {
   "cell_type": "markdown",
   "metadata": {},
   "source": [
    "** Вопросы про ROC-кривую ** \n",
    "\n",
    "1. У алгоритма $b(x)$ AUC-ROC равен $0.1$. Предложите способ построить алгоритм, имеющий лучшее качество.\n",
    "\n",
    "2. Вася построил алгоритм b(x), AUC-ROC которого 0.63. Петя построил алгоритм, $c(x) = b(x) / 3$. Чему равен AUC-ROC для него?"
   ]
  },
  {
   "cell_type": "markdown",
   "metadata": {},
   "source": [
    "** Задачи на рисование ROC-кривых и подсчёт AUC-ROC **\n",
    "\n",
    "Постройте ROC-кривые и посчитайте AUC-ROC для алгоритмов. Здесь $p$ — вектор предсказанных вероятностей принадлежности классу $+1$, а $y$ — истинный класс. \n",
    "\n",
    "1. $$p = \\begin{bmatrix} 0.9 & 0.1 & 0.75 & 0.56 & 0.2 & 0.37 & 0.25 \\end{bmatrix},$$ $$y = \\begin{bmatrix} +1 & -1 & -1 & +1 & +1 & -1 & -1 \\end{bmatrix}$$\n",
    "\n",
    "2. $$p = \\begin{bmatrix} 0.9 & 0.3 & 0.75 & 0.56 & 0.2 & 0.37 & 0.25 \\end{bmatrix},$$ $$y = \\begin{bmatrix} +1 & +1 & +1 & -1 & +1 & +1 & -1 \\end{bmatrix}$$"
   ]
  },
  {
   "cell_type": "markdown",
   "metadata": {},
   "source": [
    "** Задачи про $F_\\beta$ меру **\n",
    "\n",
    "Пусть известно, что для конкретной задачи точность в три раза важнее, чем полнота. Как выглядит формулы $F_\\beta$ меры для этого случая?\n",
    "\n",
    "1. $$F_\\beta = 10 \\cdot \\frac{\\mathrm{precision} \\cdot \\mathrm{recall}}{\\mathrm{precision} + (9 \\cdot \\mathrm{recall})}$$\n",
    "\n",
    "2. $$F_\\beta = 10 \\cdot \\frac{\\mathrm{precision} \\cdot \\mathrm{recall}}{(9 \\cdot \\mathrm{precision}) + \\mathrm{recall}}$$\n",
    "\n",
    "1. $$F_\\beta = 5 \\cdot \\frac{\\mathrm{precision} \\cdot \\mathrm{recall}}{\\mathrm{precision} + (4 \\cdot \\mathrm{recall})}$$\n",
    "\n",
    "2. $$F_\\beta = 5 \\cdot \\frac{\\mathrm{precision} \\cdot \\mathrm{recall}}{(4 \\cdot \\mathrm{precision}) + \\mathrm{recall}}$$"
   ]
  },
  {
   "cell_type": "markdown",
   "metadata": {},
   "source": [
    "** Задачи про точность, полноту, F1-меру **\n",
    "\n",
    "Посчитайте точность, полноту и F1-меру для алгоритма, если\n",
    "\n",
    "1. $\\text{TP =  8 }, \\text{FP =  2 }, \\text{FN =  16 }, \\text{TN =  4 }$\n",
    "2. $\\text{TP =  5 }, \\text{FP =  4 }, \\text{FN =  6 }, \\text{TN =  7 }$"
   ]
  },
  {
   "cell_type": "markdown",
   "metadata": {
    "collapsed": true
   },
   "source": [
    "** Ещё одна задача про точность, полноту и F1-меру ** \n",
    "\n",
    "Маша обучила логистическую регрессию и получила вектор предсказанных вероятностей принадлежностей классу +1\n",
    "\n",
    "$$p = \\begin{bmatrix} 0.9 & 0.1 & 0.75 & 0.56 & 0.2 & 0.37 & 0.25 \\end{bmatrix},$$ а вектор правильный ответов равен\n",
    "\n",
    "$$y = \\begin{bmatrix} +1 & -1 & -1 & +1 & +1 & -1 & -1 \\end{bmatrix}$$.\n",
    "\n",
    "Бинаризуйте ответ по порогу $t$ и посчитайте точность, полноту и F1-меру.\n",
    "\n",
    "1. t = 0.3\n",
    "2. t = 0.8"
   ]
  }
 ],
 "metadata": {
  "kernelspec": {
   "display_name": "Python 2",
   "language": "python",
   "name": "python2"
  },
  "language_info": {
   "codemirror_mode": {
    "name": "ipython",
    "version": 2
   },
   "file_extension": ".py",
   "mimetype": "text/x-python",
   "name": "python",
   "nbconvert_exporter": "python",
   "pygments_lexer": "ipython2",
   "version": "2.7.10"
  }
 },
 "nbformat": 4,
 "nbformat_minor": 1
}
